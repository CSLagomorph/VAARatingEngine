{
 "cells": [
  {
   "cell_type": "markdown",
   "metadata": {},
   "source": [
    "### Grid Search with k-Cross Validation"
   ]
  },
  {
   "cell_type": "code",
   "execution_count": 15,
   "metadata": {},
   "outputs": [],
   "source": [
    "# imports\n",
    "import scipy.io\n",
    "import pandas as pd\n",
    "import numpy as np\n",
    "import matplotlib.pyplot as plt\n",
    "from sklearn.model_selection import train_test_split\n",
    "from sklearn.metrics import accuracy_score\n",
    "from sklearn.metrics import classification_report, confusion_matrix ,recall_score ,precision_score,f1_score,roc_curve,roc_auc_score\n",
    "from sklearn import linear_model, datasets\n",
    "from sklearn.metrics import make_scorer\n",
    "import warnings\n",
    "warnings.filterwarnings(\"ignore\")"
   ]
  },
  {
   "cell_type": "code",
   "execution_count": 16,
   "metadata": {},
   "outputs": [],
   "source": [
    "# Non-Normalized\n",
    "X1 = pd.read_csv('Error_50k+test+10e_may18.csv')\n",
    "# # Normalized\n",
    "# X2 = pd.read_csv('Pref_nocat_ohe_1.csv')\n",
    "# # PCA\n",
    "# X3 = pd.read_csv('PCA_nocat_1.csv')"
   ]
  },
  {
   "cell_type": "code",
   "execution_count": 17,
   "metadata": {},
   "outputs": [],
   "source": [
    "Y = X1['Rating']\n",
    "X1 = X1.drop('Rating',1)"
   ]
  },
  {
   "cell_type": "code",
   "execution_count": 18,
   "metadata": {},
   "outputs": [],
   "source": [
    "# split into training and testing\n",
    "from sklearn.datasets import make_classification\n",
    "from sklearn.model_selection import train_test_split\n",
    "\n",
    "x1_train, x1_test, y1_train, y1_test = train_test_split(X1, Y, train_size=0.8,test_size = 0.2, random_state = 10)\n",
    "# x2_train, x2_test, y2_train, y2_test = train_test_split(X2, lab, train_size=0.8,test_size = 0.2, random_state = 13)\n",
    "# x3_train, x3_test, y3_train, y3_test = train_test_split(X3, lab, train_size=0.8,test_size = 0.2, random_state = 15)"
   ]
  },
  {
   "cell_type": "code",
   "execution_count": 19,
   "metadata": {},
   "outputs": [],
   "source": [
    "# imports\n",
    "from sklearn.ensemble import RandomForestClassifier \n",
    "from sklearn.tree import DecisionTreeClassifier\n",
    "from sklearn.externals.six import StringIO  \n",
    "from IPython.display import Image  \n",
    "from sklearn.tree import export_graphviz\n",
    "import pydotplus\n",
    "from sklearn.model_selection import GridSearchCV"
   ]
  },
  {
   "cell_type": "code",
   "execution_count": 20,
   "metadata": {},
   "outputs": [],
   "source": [
    "# List of parameters\n",
    "tree_param = {'criterion': ['gini', 'entropy'],'max_depth' : [3,5,7,9]}\n",
    "forest_param = {'n_estimators' :[25,50,100,150,200,250] ,'criterion': ['gini', 'entropy'] }\n",
    "extra_param = {'n_estimators' :[25,50,100,150,200,250] ,'criterion': [\"gini\", \"entropy\"]}\n",
    "bag_param = {'base_estimator' :['DecisionTreeClassifier','RandomForestClassfier'],'n_estimators' : [10,50,100,150,200]}"
   ]
  },
  {
   "cell_type": "code",
   "execution_count": 21,
   "metadata": {},
   "outputs": [],
   "source": [
    "# Visualise the results of gridsearch over differnet combination of  parameters for one data set.\n",
    "def GridSearch_table_plot(grid_clf, param_name,\n",
    "                          num_results=15,\n",
    "                          negative=True,\n",
    "                          graph=True,\n",
    "                          display_all_params=True):\n",
    "\n",
    "    '''Display grid search results\n",
    "\n",
    "    Arguments\n",
    "    ---------\n",
    "\n",
    "    grid_clf           the estimator resulting from a grid search\n",
    "                       for example: grid_clf = GridSearchCV( ...\n",
    "\n",
    "    param_name         a string with the name of the parameter being tested\n",
    "\n",
    "    num_results        an integer indicating the number of results to display\n",
    "                       Default: 15\n",
    "\n",
    "    negative           boolean: should the sign of the score be reversed?\n",
    "                       scoring = 'neg_log_loss', for instance\n",
    "                       Default: True\n",
    "\n",
    "    graph              boolean: should a graph be produced?\n",
    "                       non-numeric parameters (True/False, None) don't graph well\n",
    "                       Default: True\n",
    "\n",
    "    display_all_params boolean: should we print out all of the parameters, not just the ones searched for?\n",
    "                       Default: True\n",
    "\n",
    "    Usage\n",
    "    -----\n",
    "\n",
    "    GridSearch_table_plot(grid_clf, \"min_samples_leaf\")\n",
    "\n",
    "                          '''\n",
    "#     from matplotlib      import pyplot as plt\n",
    "#     from IPython.display import display\n",
    "    import pandas as pd\n",
    "\n",
    "    clf = grid_clf.best_estimator_\n",
    "    clf_params = grid_clf.best_params_\n",
    "    if negative:\n",
    "        clf_score = -grid_clf.best_score_\n",
    "    else:\n",
    "        clf_score = grid_clf.best_score_\n",
    "    clf_stdev = grid_clf.cv_results_['std_test_score'][grid_clf.best_index_]\n",
    "    cv_results = grid_clf.cv_results_\n",
    "    scores_df = pd.DataFrame(cv_results).sort_values(by='rank_test_score')\n",
    "\n",
    "    best_row = scores_df.iloc[0, :]\n",
    "    if negative:\n",
    "        best_mean = -best_row['mean_test_score']\n",
    "    else:\n",
    "        best_mean = best_row['mean_test_score']\n",
    "    best_stdev = best_row['std_test_score']\n",
    "    best_param = best_row['param_' + param_name]\n",
    "\n",
    "\n",
    "    scores_df = scores_df.sort_values(by='param_' + param_name)\n",
    "\n",
    "    if negative:\n",
    "        means = -scores_df['mean_test_score']\n",
    "    else:\n",
    "        means = scores_df['mean_test_score']\n",
    "    stds = scores_df['std_test_score']\n",
    "    params = scores_df['param_' + param_name]\n",
    "\n",
    "    # plot\n",
    "    if graph:\n",
    "        plt.figure(figsize=(8, 8))\n",
    "        plt.errorbar(params, means, yerr=stds)\n",
    "\n",
    "        plt.axhline(y=best_mean + best_stdev, color='red')\n",
    "        plt.axhline(y=best_mean - best_stdev, color='red')\n",
    "        plt.plot(best_param, best_mean, 'or')\n",
    "\n",
    "        plt.title(param_name + \" vs Score\\nBest Score {:0.5f}\".format(clf_score))\n",
    "        plt.xlabel(param_name)\n",
    "        plt.ylabel('Score')\n",
    "        plt.show()\n"
   ]
  },
  {
   "cell_type": "markdown",
   "metadata": {},
   "source": [
    "#### Decision Trees Grid Search"
   ]
  },
  {
   "cell_type": "code",
   "execution_count": 22,
   "metadata": {},
   "outputs": [],
   "source": [
    "def gridSearch_d_tree(X,Y,x_train,x_test,y_train,y_test) :\n",
    "    dtree_clf= GridSearchCV(DecisionTreeClassifier(),param_grid=tree_param,\n",
    "                     scoring='accuracy',cv=10,n_jobs=-1)\n",
    "    dtree_clf.fit(X, Y)\n",
    "    results = dtree_clf.cv_results_\n",
    "    print(\"Best parameters set found on development set:\")\n",
    "    print(dtree_clf.best_params_)\n",
    "    best_param = dtree_clf.best_params_\n",
    "    print()\n",
    "    print(\"Grid scores on development set:\")\n",
    "    print()\n",
    "    means = dtree_clf.cv_results_['mean_test_score']\n",
    "    stds = dtree_clf.cv_results_['std_test_score']\n",
    "    for mean, std, params in zip(means, stds, dtree_clf.cv_results_['params']):\n",
    "        print(\"%0.3f (+/-%0.03f) for %r\"\n",
    "              % (mean, std * 2, params))\n",
    "    print()\n",
    "\n",
    "    print(\"Detailed classification report:\")\n",
    "    print()\n",
    "    print(\"The model is trained on the full development set.\")\n",
    "    print(\"The scores are computed on the full evaluation set.\")\n",
    "    print()\n",
    "    y_true, y_pred = y_test, dtree_clf.predict(x_test)\n",
    "    print(classification_report(y_true, y_pred))\n",
    "    print()\n",
    "    return dtree_clf\n",
    "    "
   ]
  },
  {
   "cell_type": "code",
   "execution_count": 23,
   "metadata": {},
   "outputs": [
    {
     "name": "stdout",
     "output_type": "stream",
     "text": [
      "Best parameters set found on development set:\n",
      "{'criterion': 'entropy', 'max_depth': 9}\n",
      "\n",
      "Grid scores on development set:\n",
      "\n",
      "0.617 (+/-0.008) for {'criterion': 'gini', 'max_depth': 3}\n",
      "0.787 (+/-0.135) for {'criterion': 'gini', 'max_depth': 5}\n",
      "0.793 (+/-0.204) for {'criterion': 'gini', 'max_depth': 7}\n",
      "0.795 (+/-0.215) for {'criterion': 'gini', 'max_depth': 9}\n",
      "0.588 (+/-0.006) for {'criterion': 'entropy', 'max_depth': 3}\n",
      "0.800 (+/-0.079) for {'criterion': 'entropy', 'max_depth': 5}\n",
      "0.816 (+/-0.092) for {'criterion': 'entropy', 'max_depth': 7}\n",
      "0.818 (+/-0.104) for {'criterion': 'entropy', 'max_depth': 9}\n",
      "\n",
      "Detailed classification report:\n",
      "\n",
      "The model is trained on the full development set.\n",
      "The scores are computed on the full evaluation set.\n",
      "\n",
      "             precision    recall  f1-score   support\n",
      "\n",
      "          0       0.89      0.91      0.90       880\n",
      "          1       0.90      0.65      0.75      2798\n",
      "          2       0.82      0.96      0.88      2786\n",
      "          3       0.89      0.95      0.91      1778\n",
      "          4       0.82      0.84      0.83      1225\n",
      "          5       0.70      0.86      0.77       591\n",
      "\n",
      "avg / total       0.85      0.85      0.84     10058\n",
      "\n",
      "\n"
     ]
    },
    {
     "data": {
      "image/png": "[encoded data removed]",
      "text/plain": [
       "<Figure size 576x576 with 1 Axes>"
      ]
     },
     "metadata": {
      "needs_background": "light"
     },
     "output_type": "display_data"
    }
   ],
   "source": [
    "\n",
    "grid_clf = gridSearch_d_tree(X1,Y,x1_train,x1_test,y1_train,y1_test)\n",
    "GridSearch_table_plot(grid_clf, \"max_depth\", negative=False)"
   ]
  },
  {
   "cell_type": "code",
   "execution_count": 24,
   "metadata": {},
   "outputs": [],
   "source": [
    "def gridSearch_rand_forest(X,Y,x_train,x_test,y_train,y_test):\n",
    "    forest_clf= GridSearchCV(RandomForestClassifier(),param_grid=forest_param,\n",
    "                     scoring='accuracy',cv=10,n_jobs=-1)\n",
    "    forest_clf.fit(X,Y)\n",
    "    print(\"Best parameters set found on development set:\")\n",
    "    print(forest_clf.best_params_)\n",
    "    best_param = forest_clf.best_params_\n",
    "    print()\n",
    "    print(\"Grid scores on development set:\")\n",
    "    print()\n",
    "    means = forest_clf.cv_results_['mean_test_score']\n",
    "    stds = forest_clf.cv_results_['std_test_score']\n",
    "    for mean, std, params in zip(means, stds, forest_clf.cv_results_['params']):\n",
    "        print(\"%0.3f (+/-%0.03f) for %r\"\n",
    "              % (mean, std * 2, params))\n",
    "    print()\n",
    "\n",
    "    print(\"Detailed classification report:\")\n",
    "    print()\n",
    "    print(\"The model is trained on the full development set.\")\n",
    "    print(\"The scores are computed on the full evaluation set.\")\n",
    "    print()\n",
    "    y_true, y_pred = y_test, forest_clf.predict(x_test)\n",
    "    print(classification_report(y_true, y_pred))\n",
    "    print()\n",
    "    return forest_clf"
   ]
  },
  {
   "cell_type": "code",
   "execution_count": 25,
   "metadata": {
    "scrolled": false
   },
   "outputs": [
    {
     "name": "stdout",
     "output_type": "stream",
     "text": [
      "Best parameters set found on development set:\n",
      "{'criterion': 'entropy', 'n_estimators': 50}\n",
      "\n",
      "Grid scores on development set:\n",
      "\n",
      "0.748 (+/-0.333) for {'criterion': 'gini', 'n_estimators': 25}\n",
      "0.753 (+/-0.331) for {'criterion': 'gini', 'n_estimators': 50}\n",
      "0.753 (+/-0.336) for {'criterion': 'gini', 'n_estimators': 100}\n",
      "0.756 (+/-0.321) for {'criterion': 'gini', 'n_estimators': 150}\n",
      "0.751 (+/-0.344) for {'criterion': 'gini', 'n_estimators': 200}\n",
      "0.755 (+/-0.333) for {'criterion': 'gini', 'n_estimators': 250}\n",
      "0.781 (+/-0.228) for {'criterion': 'entropy', 'n_estimators': 25}\n",
      "0.787 (+/-0.205) for {'criterion': 'entropy', 'n_estimators': 50}\n",
      "0.770 (+/-0.277) for {'criterion': 'entropy', 'n_estimators': 100}\n",
      "0.778 (+/-0.240) for {'criterion': 'entropy', 'n_estimators': 150}\n",
      "0.786 (+/-0.210) for {'criterion': 'entropy', 'n_estimators': 200}\n",
      "0.760 (+/-0.310) for {'criterion': 'entropy', 'n_estimators': 250}\n",
      "\n",
      "Detailed classification report:\n",
      "\n",
      "The model is trained on the full development set.\n",
      "The scores are computed on the full evaluation set.\n",
      "\n",
      "             precision    recall  f1-score   support\n",
      "\n",
      "          0       1.00      1.00      1.00       880\n",
      "          1       1.00      1.00      1.00      2798\n",
      "          2       1.00      1.00      1.00      2786\n",
      "          3       1.00      1.00      1.00      1778\n",
      "          4       1.00      1.00      1.00      1225\n",
      "          5       1.00      1.00      1.00       591\n",
      "\n",
      "avg / total       1.00      1.00      1.00     10058\n",
      "\n",
      "\n"
     ]
    },
    {
     "data": {
      "image/png": "[encoded data removed]",
      "text/plain": [
       "<Figure size 576x576 with 1 Axes>"
      ]
     },
     "metadata": {
      "needs_background": "light"
     },
     "output_type": "display_data"
    }
   ],
   "source": [
    "\n",
    "grid_clf = gridSearch_rand_forest(X1,Y,x1_train,x1_test,y1_train,y1_test)\n",
    "GridSearch_table_plot(grid_clf, \"n_estimators\", negative=False)"
   ]
  },
  {
   "cell_type": "markdown",
   "metadata": {},
   "source": [
    "#### Grid Search Extra Trees "
   ]
  },
  {
   "cell_type": "code",
   "execution_count": 26,
   "metadata": {},
   "outputs": [],
   "source": [
    "from sklearn.ensemble import ExtraTreesClassifier"
   ]
  },
  {
   "cell_type": "code",
   "execution_count": 27,
   "metadata": {},
   "outputs": [],
   "source": [
    "def gridSearch_extra(X,Y,x_train,x_test,y_train,y_test):\n",
    "    extra_clf= GridSearchCV(ExtraTreesClassifier(),param_grid=extra_param,\n",
    "                     scoring='accuracy',cv=10,n_jobs=-1)\n",
    "    extra_clf.fit(X,Y)\n",
    "    print(\"Best parameters set found on development set:\")\n",
    "    print(extra_clf.best_params_)\n",
    "    best_param = extra_clf.best_params_\n",
    "    print()\n",
    "    print(\"Grid scores on development set:\")\n",
    "    print()\n",
    "    means = extra_clf.cv_results_['mean_test_score']\n",
    "    stds = extra_clf.cv_results_['std_test_score']\n",
    "    for mean, std, params in zip(means, stds, extra_clf.cv_results_['params']):\n",
    "        print(\"%0.3f (+/-%0.03f) for %r\"\n",
    "              % (mean, std * 2, params))\n",
    "    print()\n",
    "\n",
    "    print(\"Detailed classification report:\")\n",
    "    print()\n",
    "    print(\"The model is trained on the full development set.\")\n",
    "    print(\"The scores are computed on the full evaluation set.\")\n",
    "    print()\n",
    "    y_true, y_pred = y_test, extra_clf.predict(x_test)\n",
    "    print(classification_report(y_true, y_pred))\n",
    "    print()\n",
    "    return extra_clf"
   ]
  },
  {
   "cell_type": "code",
   "execution_count": 28,
   "metadata": {},
   "outputs": [
    {
     "name": "stdout",
     "output_type": "stream",
     "text": [
      "Best parameters set found on development set:\n",
      "{'criterion': 'gini', 'n_estimators': 250}\n",
      "\n",
      "Grid scores on development set:\n",
      "\n",
      "0.738 (+/-0.017) for {'criterion': 'gini', 'n_estimators': 25}\n",
      "0.761 (+/-0.013) for {'criterion': 'gini', 'n_estimators': 50}\n",
      "0.772 (+/-0.015) for {'criterion': 'gini', 'n_estimators': 100}\n",
      "0.782 (+/-0.011) for {'criterion': 'gini', 'n_estimators': 150}\n",
      "0.783 (+/-0.009) for {'criterion': 'gini', 'n_estimators': 200}\n",
      "0.786 (+/-0.015) for {'criterion': 'gini', 'n_estimators': 250}\n",
      "0.741 (+/-0.022) for {'criterion': 'entropy', 'n_estimators': 25}\n",
      "0.763 (+/-0.021) for {'criterion': 'entropy', 'n_estimators': 50}\n",
      "0.782 (+/-0.012) for {'criterion': 'entropy', 'n_estimators': 100}\n",
      "0.783 (+/-0.011) for {'criterion': 'entropy', 'n_estimators': 150}\n",
      "0.785 (+/-0.012) for {'criterion': 'entropy', 'n_estimators': 200}\n",
      "0.786 (+/-0.014) for {'criterion': 'entropy', 'n_estimators': 250}\n",
      "\n",
      "Detailed classification report:\n",
      "\n",
      "The model is trained on the full development set.\n",
      "The scores are computed on the full evaluation set.\n",
      "\n",
      "             precision    recall  f1-score   support\n",
      "\n",
      "          0       1.00      1.00      1.00       880\n",
      "          1       1.00      1.00      1.00      2798\n",
      "          2       1.00      1.00      1.00      2786\n",
      "          3       1.00      1.00      1.00      1778\n",
      "          4       1.00      1.00      1.00      1225\n",
      "          5       1.00      1.00      1.00       591\n",
      "\n",
      "avg / total       1.00      1.00      1.00     10058\n",
      "\n",
      "\n"
     ]
    },
    {
     "data": {
      "image/png": "[encoded data removed]",
      "text/plain": [
       "<Figure size 576x576 with 1 Axes>"
      ]
     },
     "metadata": {
      "needs_background": "light"
     },
     "output_type": "display_data"
    }
   ],
   "source": [
    "\n",
    "grid_clf = gridSearch_extra(X1,Y,x1_train,x1_test,y1_train,y1_test)\n",
    "GridSearch_table_plot(grid_clf, \"n_estimators\", negative=False)"
   ]
  },
  {
   "cell_type": "code",
   "execution_count": null,
   "metadata": {},
   "outputs": [],
   "source": []
  }
 ],
 "metadata": {
  "kernelspec": {
   "display_name": "Python 3",
   "language": "python",
   "name": "python3"
  },
  "language_info": {
   "codemirror_mode": {
    "name": "ipython",
    "version": 3
   },
   "file_extension": ".py",
   "mimetype": "text/x-python",
   "name": "python",
   "nbconvert_exporter": "python",
   "pygments_lexer": "ipython3",
   "version": "3.7.2"
  }
 },
 "nbformat": 4,
 "nbformat_minor": 2
}
