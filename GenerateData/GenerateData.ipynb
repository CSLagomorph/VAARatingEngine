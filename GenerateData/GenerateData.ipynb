{
 "cells": [
  {
   "cell_type": "code",
   "execution_count": 1,
   "metadata": {},
   "outputs": [],
   "source": [
    "import os\n",
    "import random\n",
    "from random import randint, choice\n",
    "import pandas as pd"
   ]
  },
  {
   "cell_type": "code",
   "execution_count": 2,
   "metadata": {},
   "outputs": [],
   "source": [
    "class datagen():\n",
    "    def __init__(self,seed = None):\n",
    "        self.seed = seed\n",
    "        self.randnum = randint(1, 9)\n",
    "        self.major_list = self._initialize_major_list()\n",
    "        self.college_list = self._initialize_college_list()\n",
    "\n",
    "    def _initialize_major_list(self):\n",
    "        path = \"Majors.txt\"\n",
    "        major_list = []\n",
    "        with open(path) as fh:\n",
    "            major_list = [str(line).strip() for line in fh.readlines()]\n",
    "\n",
    "        return major_list\n",
    "    \n",
    "    def _initialize_college_list(self):\n",
    "        path = \"Colleges.txt\"\n",
    "        college_list = []\n",
    "        with open(path) as fh:\n",
    "            college_list = [str(line).strip() for line in fh.readlines()]\n",
    "            \n",
    "        return college_list\n",
    "\n",
    "    \n",
    "    def generate_data(self, num=10, fields=['major'], real_college=True, real_major=True, real_job_type=True, seed=None):\n",
    "        self._validate_args(num,fields)\n",
    "        df = pd.DataFrame(data=self.generate_series(num, data_type=fields[0]), columns=[fields[0]])\n",
    "        for col in fields[1:]:\n",
    "            if col == 'major' and real_major:\n",
    "                df['PreferedMajor'] = self.generate_series(num, data_type=col)\n",
    "            elif col == 'college':\n",
    "                df['PreferedCollege'] = self.generate_series(num, data_type=col)\n",
    "            elif col == 'job_type' and real_job_type:\n",
    "                df['JobType'] = self.generate_series(num, data_type=col)\n",
    "            elif col =='enrollment_type':\n",
    "                df['EnrollmentType'] = self.generate_series(num, data_type=col)\n",
    "            elif col =='quarter':\n",
    "                df['PreferedStartQuarter'] = self.generate_series(num,data_type = col)\n",
    "            elif col == 'quarter2':\n",
    "                df['ActualStartQuarter'] = self.generate_series(num,'quarter')\n",
    "            elif col =='numQuarters':\n",
    "                df['PreferedNumberQuarters'] = self.generate_series(num,col)\n",
    "            elif col =='numQuarters2':\n",
    "                df['ActualNumberQuarters'] = self.generate_series(num,'numQuarters')\n",
    "            elif col =='numCore' :\n",
    "                df['PreferedNumberofCore'] = self.generate_series(num,col)\n",
    "            elif col =='actualNumCore':\n",
    "                df['ActualNumberofCore'] = self.generate_series(num,col)\n",
    "            elif col =='summerPref':\n",
    "                df['SummerPref'] = self.generate_series(num,col)\n",
    "            elif col == 'summer':\n",
    "                df['ActualSummerPref'] = self.generate_series(num,'summerPref')\n",
    "            elif col == 'mathSequenceBreak':\n",
    "                df['mathSequenceBreak'] = self.generate_series(num,col)\n",
    "            elif col == 'englishSequenceBreak':\n",
    "                df['englishSequenceBreak'] = self.generate_series(num,col)\n",
    "        return df\n",
    "\n",
    "    def generate_series(self, num=10, data_type='major', seed=None):\n",
    "        if type(data_type) != str:\n",
    "            raise ValueError(\n",
    "                \"Data type must be of type str, found \" + str(type(data_type)))\n",
    "        try:\n",
    "            num = int(num)\n",
    "        except:\n",
    "            raise ValueError(\n",
    "                'Number of samples must be a positive integer, found ' + num)\n",
    "\n",
    "        if num <= 0:\n",
    "            raise ValueError(\n",
    "                'Number of samples must be a positive integer, found ' + num)\n",
    "\n",
    "        num = int(num)\n",
    "#         dict for function lookup. Given a key, the corresponding function is the value.\n",
    "        func_lookup = {\n",
    "            'major': self.major,\n",
    "            'college': self.college,\n",
    "            'job_type': self.job_type,\n",
    "            'enrollment_type': self.enrollment_type,\n",
    "            'quarter' : self.quarter,\n",
    "            'numQuarters' : self.numQuarters,\n",
    "            'numCore':self.numCore,\n",
    "            'actualNumCore':self.actualNumCore,\n",
    "            'summerPref':self.summerPref,\n",
    "            'mathSequenceBreak' : self.mathsequenceBreak,\n",
    "            'englishSequenceBreak' : self.engsequenceBreak\n",
    "        }\n",
    "        if data_type not in func_lookup:\n",
    "            raise ValueError(\"Data type must be one of \" +\n",
    "                             str(list(func_lookup.keys())))\n",
    "\n",
    "        datagen_func = func_lookup[data_type]\n",
    "        return pd.Series((datagen_func() for _ in range(num)))\n",
    "# the list of different functions for generating data for different features.\n",
    "    def mathsequenceBreak(self,seed =None):\n",
    "        random_int = randint(0,100)\n",
    "        return random_int\n",
    "#     though it is practically possible to get a sequencebreak less that 30, it was not observed in the real data\n",
    "    def engsequenceBreak(self,seed =None):\n",
    "        random_int = randint(30,100)\n",
    "        return random_int\n",
    "    def summerPref(self,seed = None):\n",
    "        summerPref =['yes','no']\n",
    "        return choice(summerPref)\n",
    "    def actualNumCore(self,seed = None):\n",
    "        random_int = randint(0,7)\n",
    "        return random_int\n",
    "    def numCore(self,seed=None):\n",
    "        random_int = randint(1,6)\n",
    "        return random_int\n",
    "    def numQuarters(self,seed=None):\n",
    "        random_int = randint(1,30)\n",
    "        return random_int\n",
    "    def major(self, seed=None):\n",
    "        random.seed(self.seed)\n",
    "        return choice(self.major_list)\n",
    "    def college(self, seed = None):\n",
    "        random.seed(self.seed)\n",
    "        return choice(self.college_list)\n",
    "    def enrollment_type(self, seed = None):\n",
    "        type = ['Full Time','Part Time']\n",
    "        return choice(type)\n",
    "    def job_type(self, seed = None):\n",
    "        type = ['Full Time','Part Time','Unemployed']\n",
    "        return choice(type)\n",
    "    def quarter(self,seed = None):\n",
    "        type = ['Fall','Winter','Spring','Summer']\n",
    "        return choice(type)\n",
    "    \n",
    "    def _validate_args(self, num, fields):\n",
    "        try:\n",
    "            num = int(num)\n",
    "        except:\n",
    "            raise ValueError(\n",
    "                'Number of samples must be a positive integer, found ' + num)\n",
    "        if num <= 0:\n",
    "            raise ValueError(\n",
    "                'Number of samples must be a positive integer, found ' + num)\n",
    "\n",
    "        num_cols = len(fields)\n",
    "        if num_cols < 0:\n",
    "            raise ValueError(\n",
    "                \"Please provide at least one type of data field to be generated\")\n",
    "    \n",
    "    "
   ]
  },
  {
   "cell_type": "code",
   "execution_count": 3,
   "metadata": {},
   "outputs": [],
   "source": [
    "x = datagen()"
   ]
  },
  {
   "cell_type": "code",
   "execution_count": 9,
   "metadata": {},
   "outputs": [
    {
     "name": "stdout",
     "output_type": "stream",
     "text": [
      "500  0.22176599502563477\n",
      "5000  2.1072723865509033\n",
      "50k  20.64388394355774\n",
      "100k  41.277892112731934\n"
     ]
    }
   ],
   "source": [
    "import time\n",
    "t1 = time.time()\n",
    "x.generate_data(500,['major','college','job_type','enrollment_type','quarter','quarter2','numQuarters',\n",
    "                        'numQuarters2','numCore','actualNumCore','summerPref','summer','mathSequenceBreak',\n",
    "                    'englishSequenceBreak'])\n",
    "t2 = time.time()\n",
    "\n",
    "print(\"500 \",t2-t1)\n",
    "t1 = time.time()\n",
    "x.generate_data(5000,['major','college','job_type','enrollment_type','quarter','quarter2','numQuarters',\n",
    "                        'numQuarters2','numCore','actualNumCore','summerPref','summer','mathSequenceBreak',\n",
    "                    'englishSequenceBreak'])\n",
    "t2 = time.time()\n",
    "\n",
    "print(\"5000 \", t2-t1)\n",
    "t1 = time.time()\n",
    "x.generate_data(50000,['major','college','job_type','enrollment_type','quarter','quarter2','numQuarters',\n",
    "                        'numQuarters2','numCore','actualNumCore','summerPref','summer','mathSequenceBreak',\n",
    "                    'englishSequenceBreak'])\n",
    "t2 = time.time()\n",
    "\n",
    "print(\"50k \", t2-t1)\n",
    "t1 = time.time()\n",
    "x.generate_data(100000,['major','college','job_type','enrollment_type','quarter','quarter2','numQuarters',\n",
    "                        'numQuarters2','numCore','actualNumCore','summerPref','summer','mathSequenceBreak',\n",
    "                    'englishSequenceBreak'])\n",
    "t2 = time.time()\n",
    "\n",
    "print(\"100k \", t2-t1)\n",
    "    "
   ]
  },
  {
   "cell_type": "code",
   "execution_count": 11,
   "metadata": {},
   "outputs": [
    {
     "name": "stdout",
     "output_type": "stream",
     "text": [
      "500k  206.84104228019714\n"
     ]
    }
   ],
   "source": [
    "t1 = time.time()\n",
    "x.generate_data(500000,['major','college','job_type','enrollment_type','quarter','quarter2','numQuarters',\n",
    "                        'numQuarters2','numCore','actualNumCore','summerPref','summer','mathSequenceBreak',\n",
    "                    'englishSequenceBreak'])\n",
    "t2 = time.time()\n",
    "\n",
    "print(\"500k \", t2-t1)\n",
    "# "
   ]
  },
  {
   "cell_type": "code",
   "execution_count": 10,
   "metadata": {},
   "outputs": [],
   "source": [
    "y = x.generate_data(10000,['major','college','job_type','enrollment_type','quarter','quarter2','numQuarters',\n",
    "                        'numQuarters2','numCore','actualNumCore','summerPref','summer','mathSequenceBreak',\n",
    "                    'englishSequenceBreak'])"
   ]
  },
  {
   "cell_type": "code",
   "execution_count": 11,
   "metadata": {},
   "outputs": [],
   "source": [
    "y.rename(columns={'major': 'PreferedMajor'}, inplace=True)"
   ]
  },
  {
   "cell_type": "code",
   "execution_count": 12,
   "metadata": {},
   "outputs": [],
   "source": [
    "y.to_csv(\"Validation_Data3_may21.csv\")"
   ]
  },
  {
   "cell_type": "raw",
   "metadata": {},
   "source": [
    "The data generation above has more deviation from the original data as we are trying to consider all the possible cases rather than just the cases given in the original data. The original data at the point of creation was not very diverse and had more plans which fall in an average case. similarly with the new data.  "
   ]
  },
  {
   "cell_type": "code",
   "execution_count": 10,
   "metadata": {},
   "outputs": [],
   "source": []
  },
  {
   "cell_type": "code",
   "execution_count": 13,
   "metadata": {},
   "outputs": [],
   "source": []
  },
  {
   "cell_type": "code",
   "execution_count": null,
   "metadata": {},
   "outputs": [],
   "source": []
  }
 ],
 "metadata": {
  "kernelspec": {
   "display_name": "Python 3",
   "language": "python",
   "name": "python3"
  },
  "language_info": {
   "codemirror_mode": {
    "name": "ipython",
    "version": 3
   },
   "file_extension": ".py",
   "mimetype": "text/x-python",
   "name": "python",
   "nbconvert_exporter": "python",
   "pygments_lexer": "ipython3",
   "version": "3.7.2"
  }
 },
 "nbformat": 4,
 "nbformat_minor": 2
}
